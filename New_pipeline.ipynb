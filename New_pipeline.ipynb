{
 "cells": [
  {
   "cell_type": "code",
   "execution_count": 1,
   "metadata": {},
   "outputs": [],
   "source": [
    "import pandas as pd\n",
    "import numpy as np\n",
    "import matplotlib.pyplot as plt\n",
    "import seaborn as sns\n",
    "from sklearn.model_selection import cross_val_score\n",
    "%matplotlib inline"
   ]
  },
  {
   "cell_type": "code",
   "execution_count": 2,
   "metadata": {},
   "outputs": [
    {
     "data": {
      "text/html": [
       "<div>\n",
       "<style scoped>\n",
       "    .dataframe tbody tr th:only-of-type {\n",
       "        vertical-align: middle;\n",
       "    }\n",
       "\n",
       "    .dataframe tbody tr th {\n",
       "        vertical-align: top;\n",
       "    }\n",
       "\n",
       "    .dataframe thead th {\n",
       "        text-align: right;\n",
       "    }\n",
       "</style>\n",
       "<table border=\"1\" class=\"dataframe\">\n",
       "  <thead>\n",
       "    <tr style=\"text-align: right;\">\n",
       "      <th></th>\n",
       "      <th>age</th>\n",
       "      <th>sex</th>\n",
       "      <th>bmi</th>\n",
       "      <th>children</th>\n",
       "      <th>smoker</th>\n",
       "      <th>region</th>\n",
       "      <th>expenses</th>\n",
       "    </tr>\n",
       "  </thead>\n",
       "  <tbody>\n",
       "    <tr>\n",
       "      <th>0</th>\n",
       "      <td>19</td>\n",
       "      <td>female</td>\n",
       "      <td>27.9</td>\n",
       "      <td>0</td>\n",
       "      <td>yes</td>\n",
       "      <td>southwest</td>\n",
       "      <td>16884.92</td>\n",
       "    </tr>\n",
       "    <tr>\n",
       "      <th>1</th>\n",
       "      <td>18</td>\n",
       "      <td>male</td>\n",
       "      <td>33.8</td>\n",
       "      <td>1</td>\n",
       "      <td>no</td>\n",
       "      <td>southeast</td>\n",
       "      <td>1725.55</td>\n",
       "    </tr>\n",
       "    <tr>\n",
       "      <th>2</th>\n",
       "      <td>28</td>\n",
       "      <td>male</td>\n",
       "      <td>33.0</td>\n",
       "      <td>3</td>\n",
       "      <td>no</td>\n",
       "      <td>southeast</td>\n",
       "      <td>4449.46</td>\n",
       "    </tr>\n",
       "    <tr>\n",
       "      <th>3</th>\n",
       "      <td>33</td>\n",
       "      <td>male</td>\n",
       "      <td>22.7</td>\n",
       "      <td>0</td>\n",
       "      <td>no</td>\n",
       "      <td>northwest</td>\n",
       "      <td>21984.47</td>\n",
       "    </tr>\n",
       "    <tr>\n",
       "      <th>4</th>\n",
       "      <td>32</td>\n",
       "      <td>male</td>\n",
       "      <td>28.9</td>\n",
       "      <td>0</td>\n",
       "      <td>no</td>\n",
       "      <td>northwest</td>\n",
       "      <td>3866.86</td>\n",
       "    </tr>\n",
       "  </tbody>\n",
       "</table>\n",
       "</div>"
      ],
      "text/plain": [
       "   age     sex   bmi  children smoker     region  expenses\n",
       "0   19  female  27.9         0    yes  southwest  16884.92\n",
       "1   18    male  33.8         1     no  southeast   1725.55\n",
       "2   28    male  33.0         3     no  southeast   4449.46\n",
       "3   33    male  22.7         0     no  northwest  21984.47\n",
       "4   32    male  28.9         0     no  northwest   3866.86"
      ]
     },
     "execution_count": 2,
     "metadata": {},
     "output_type": "execute_result"
    }
   ],
   "source": [
    "df = pd.read_csv('insurance.csv')\n",
    "df.head()"
   ]
  },
  {
   "cell_type": "code",
   "execution_count": 3,
   "metadata": {},
   "outputs": [
    {
     "data": {
      "text/html": [
       "<div>\n",
       "<style scoped>\n",
       "    .dataframe tbody tr th:only-of-type {\n",
       "        vertical-align: middle;\n",
       "    }\n",
       "\n",
       "    .dataframe tbody tr th {\n",
       "        vertical-align: top;\n",
       "    }\n",
       "\n",
       "    .dataframe thead th {\n",
       "        text-align: right;\n",
       "    }\n",
       "</style>\n",
       "<table border=\"1\" class=\"dataframe\">\n",
       "  <thead>\n",
       "    <tr style=\"text-align: right;\">\n",
       "      <th></th>\n",
       "      <th>age</th>\n",
       "      <th>bmi</th>\n",
       "      <th>children</th>\n",
       "      <th>expenses</th>\n",
       "    </tr>\n",
       "  </thead>\n",
       "  <tbody>\n",
       "    <tr>\n",
       "      <th>count</th>\n",
       "      <td>1338.000000</td>\n",
       "      <td>1338.000000</td>\n",
       "      <td>1338.000000</td>\n",
       "      <td>1338.000000</td>\n",
       "    </tr>\n",
       "    <tr>\n",
       "      <th>mean</th>\n",
       "      <td>39.207025</td>\n",
       "      <td>30.665471</td>\n",
       "      <td>1.094918</td>\n",
       "      <td>13270.422414</td>\n",
       "    </tr>\n",
       "    <tr>\n",
       "      <th>std</th>\n",
       "      <td>14.049960</td>\n",
       "      <td>6.098382</td>\n",
       "      <td>1.205493</td>\n",
       "      <td>12110.011240</td>\n",
       "    </tr>\n",
       "    <tr>\n",
       "      <th>min</th>\n",
       "      <td>18.000000</td>\n",
       "      <td>16.000000</td>\n",
       "      <td>0.000000</td>\n",
       "      <td>1121.870000</td>\n",
       "    </tr>\n",
       "    <tr>\n",
       "      <th>25%</th>\n",
       "      <td>27.000000</td>\n",
       "      <td>26.300000</td>\n",
       "      <td>0.000000</td>\n",
       "      <td>4740.287500</td>\n",
       "    </tr>\n",
       "    <tr>\n",
       "      <th>50%</th>\n",
       "      <td>39.000000</td>\n",
       "      <td>30.400000</td>\n",
       "      <td>1.000000</td>\n",
       "      <td>9382.030000</td>\n",
       "    </tr>\n",
       "    <tr>\n",
       "      <th>75%</th>\n",
       "      <td>51.000000</td>\n",
       "      <td>34.700000</td>\n",
       "      <td>2.000000</td>\n",
       "      <td>16639.915000</td>\n",
       "    </tr>\n",
       "    <tr>\n",
       "      <th>max</th>\n",
       "      <td>64.000000</td>\n",
       "      <td>53.100000</td>\n",
       "      <td>5.000000</td>\n",
       "      <td>63770.430000</td>\n",
       "    </tr>\n",
       "  </tbody>\n",
       "</table>\n",
       "</div>"
      ],
      "text/plain": [
       "               age          bmi     children      expenses\n",
       "count  1338.000000  1338.000000  1338.000000   1338.000000\n",
       "mean     39.207025    30.665471     1.094918  13270.422414\n",
       "std      14.049960     6.098382     1.205493  12110.011240\n",
       "min      18.000000    16.000000     0.000000   1121.870000\n",
       "25%      27.000000    26.300000     0.000000   4740.287500\n",
       "50%      39.000000    30.400000     1.000000   9382.030000\n",
       "75%      51.000000    34.700000     2.000000  16639.915000\n",
       "max      64.000000    53.100000     5.000000  63770.430000"
      ]
     },
     "execution_count": 3,
     "metadata": {},
     "output_type": "execute_result"
    }
   ],
   "source": [
    "#Data description\n",
    "df.describe()"
   ]
  },
  {
   "cell_type": "code",
   "execution_count": 27,
   "metadata": {},
   "outputs": [],
   "source": [
    "#Making pipeline"
   ]
  },
  {
   "cell_type": "code",
   "execution_count": 4,
   "metadata": {},
   "outputs": [],
   "source": [
    "from sklearn.model_selection import train_test_split"
   ]
  },
  {
   "cell_type": "code",
   "execution_count": 5,
   "metadata": {},
   "outputs": [],
   "source": [
    "from sklearn.compose import ColumnTransformer\n",
    "from sklearn.preprocessing import OneHotEncoder, OrdinalEncoder\n",
    "from sklearn.preprocessing import StandardScaler\n",
    "from sklearn.pipeline import Pipeline,make_pipeline\n",
    "from sklearn.ensemble import GradientBoostingRegressor"
   ]
  },
  {
   "cell_type": "code",
   "execution_count": 6,
   "metadata": {},
   "outputs": [],
   "source": [
    "from sklearn import set_config\n",
    "set_config(display='diagram')"
   ]
  },
  {
   "cell_type": "code",
   "execution_count": 7,
   "metadata": {},
   "outputs": [
    {
     "data": {
      "text/html": [
       "<div>\n",
       "<style scoped>\n",
       "    .dataframe tbody tr th:only-of-type {\n",
       "        vertical-align: middle;\n",
       "    }\n",
       "\n",
       "    .dataframe tbody tr th {\n",
       "        vertical-align: top;\n",
       "    }\n",
       "\n",
       "    .dataframe thead th {\n",
       "        text-align: right;\n",
       "    }\n",
       "</style>\n",
       "<table border=\"1\" class=\"dataframe\">\n",
       "  <thead>\n",
       "    <tr style=\"text-align: right;\">\n",
       "      <th></th>\n",
       "      <th>age</th>\n",
       "      <th>sex</th>\n",
       "      <th>bmi</th>\n",
       "      <th>children</th>\n",
       "      <th>smoker</th>\n",
       "      <th>region</th>\n",
       "      <th>expenses</th>\n",
       "    </tr>\n",
       "  </thead>\n",
       "  <tbody>\n",
       "    <tr>\n",
       "      <th>0</th>\n",
       "      <td>19</td>\n",
       "      <td>female</td>\n",
       "      <td>27.9</td>\n",
       "      <td>0</td>\n",
       "      <td>yes</td>\n",
       "      <td>southwest</td>\n",
       "      <td>16884.92</td>\n",
       "    </tr>\n",
       "    <tr>\n",
       "      <th>1</th>\n",
       "      <td>18</td>\n",
       "      <td>male</td>\n",
       "      <td>33.8</td>\n",
       "      <td>1</td>\n",
       "      <td>no</td>\n",
       "      <td>southeast</td>\n",
       "      <td>1725.55</td>\n",
       "    </tr>\n",
       "  </tbody>\n",
       "</table>\n",
       "</div>"
      ],
      "text/plain": [
       "   age     sex   bmi  children smoker     region  expenses\n",
       "0   19  female  27.9         0    yes  southwest  16884.92\n",
       "1   18    male  33.8         1     no  southeast   1725.55"
      ]
     },
     "execution_count": 7,
     "metadata": {},
     "output_type": "execute_result"
    }
   ],
   "source": [
    "df.head(2)"
   ]
  },
  {
   "cell_type": "code",
   "execution_count": 8,
   "metadata": {},
   "outputs": [],
   "source": [
    "transformer = ColumnTransformer(transformers=[\n",
    "    ('tnf1',OneHotEncoder(sparse=False, handle_unknown='ignore'), [1,5]),\n",
    "    ('tnf2',OrdinalEncoder(categories=[['no','yes']]),[4]),\n",
    "    ('tnf3',StandardScaler(),[0,2,3])\n",
    "],remainder='passthrough')"
   ]
  },
  {
   "cell_type": "code",
   "execution_count": 16,
   "metadata": {},
   "outputs": [],
   "source": [
    "x_train,x_test,y_train,y_test = train_test_split(df.drop(columns=['expenses']),\n",
    "                                                df['expenses'], test_size=0.2,random_state=42)"
   ]
  },
  {
   "cell_type": "code",
   "execution_count": 17,
   "metadata": {},
   "outputs": [
    {
     "data": {
      "text/plain": [
       "(1070, 6)"
      ]
     },
     "execution_count": 17,
     "metadata": {},
     "output_type": "execute_result"
    }
   ],
   "source": [
    "x_train.shape"
   ]
  },
  {
   "cell_type": "code",
   "execution_count": 18,
   "metadata": {},
   "outputs": [
    {
     "data": {
      "text/plain": [
       "(268, 6)"
      ]
     },
     "execution_count": 18,
     "metadata": {},
     "output_type": "execute_result"
    }
   ],
   "source": [
    "x_test.shape"
   ]
  },
  {
   "cell_type": "code",
   "execution_count": 19,
   "metadata": {},
   "outputs": [],
   "source": [
    "gb_model = Pipeline(steps=[('transformer',transformer),\n",
    "                           ('model', GradientBoostingRegressor())\n",
    "                          ])"
   ]
  },
  {
   "cell_type": "code",
   "execution_count": 20,
   "metadata": {},
   "outputs": [
    {
     "data": {
      "text/html": [
       "<style>#sk-48a2b048-abf1-45a5-85bf-ed3f5b9b9527 {color: black;background-color: white;}#sk-48a2b048-abf1-45a5-85bf-ed3f5b9b9527 pre{padding: 0;}#sk-48a2b048-abf1-45a5-85bf-ed3f5b9b9527 div.sk-toggleable {background-color: white;}#sk-48a2b048-abf1-45a5-85bf-ed3f5b9b9527 label.sk-toggleable__label {cursor: pointer;display: block;width: 100%;margin-bottom: 0;padding: 0.3em;box-sizing: border-box;text-align: center;}#sk-48a2b048-abf1-45a5-85bf-ed3f5b9b9527 label.sk-toggleable__label-arrow:before {content: \"▸\";float: left;margin-right: 0.25em;color: #696969;}#sk-48a2b048-abf1-45a5-85bf-ed3f5b9b9527 label.sk-toggleable__label-arrow:hover:before {color: black;}#sk-48a2b048-abf1-45a5-85bf-ed3f5b9b9527 div.sk-estimator:hover label.sk-toggleable__label-arrow:before {color: black;}#sk-48a2b048-abf1-45a5-85bf-ed3f5b9b9527 div.sk-toggleable__content {max-height: 0;max-width: 0;overflow: hidden;text-align: left;background-color: #f0f8ff;}#sk-48a2b048-abf1-45a5-85bf-ed3f5b9b9527 div.sk-toggleable__content pre {margin: 0.2em;color: black;border-radius: 0.25em;background-color: #f0f8ff;}#sk-48a2b048-abf1-45a5-85bf-ed3f5b9b9527 input.sk-toggleable__control:checked~div.sk-toggleable__content {max-height: 200px;max-width: 100%;overflow: auto;}#sk-48a2b048-abf1-45a5-85bf-ed3f5b9b9527 input.sk-toggleable__control:checked~label.sk-toggleable__label-arrow:before {content: \"▾\";}#sk-48a2b048-abf1-45a5-85bf-ed3f5b9b9527 div.sk-estimator input.sk-toggleable__control:checked~label.sk-toggleable__label {background-color: #d4ebff;}#sk-48a2b048-abf1-45a5-85bf-ed3f5b9b9527 div.sk-label input.sk-toggleable__control:checked~label.sk-toggleable__label {background-color: #d4ebff;}#sk-48a2b048-abf1-45a5-85bf-ed3f5b9b9527 input.sk-hidden--visually {border: 0;clip: rect(1px 1px 1px 1px);clip: rect(1px, 1px, 1px, 1px);height: 1px;margin: -1px;overflow: hidden;padding: 0;position: absolute;width: 1px;}#sk-48a2b048-abf1-45a5-85bf-ed3f5b9b9527 div.sk-estimator {font-family: monospace;background-color: #f0f8ff;border: 1px dotted black;border-radius: 0.25em;box-sizing: border-box;margin-bottom: 0.5em;}#sk-48a2b048-abf1-45a5-85bf-ed3f5b9b9527 div.sk-estimator:hover {background-color: #d4ebff;}#sk-48a2b048-abf1-45a5-85bf-ed3f5b9b9527 div.sk-parallel-item::after {content: \"\";width: 100%;border-bottom: 1px solid gray;flex-grow: 1;}#sk-48a2b048-abf1-45a5-85bf-ed3f5b9b9527 div.sk-label:hover label.sk-toggleable__label {background-color: #d4ebff;}#sk-48a2b048-abf1-45a5-85bf-ed3f5b9b9527 div.sk-serial::before {content: \"\";position: absolute;border-left: 1px solid gray;box-sizing: border-box;top: 2em;bottom: 0;left: 50%;}#sk-48a2b048-abf1-45a5-85bf-ed3f5b9b9527 div.sk-serial {display: flex;flex-direction: column;align-items: center;background-color: white;padding-right: 0.2em;padding-left: 0.2em;}#sk-48a2b048-abf1-45a5-85bf-ed3f5b9b9527 div.sk-item {z-index: 1;}#sk-48a2b048-abf1-45a5-85bf-ed3f5b9b9527 div.sk-parallel {display: flex;align-items: stretch;justify-content: center;background-color: white;}#sk-48a2b048-abf1-45a5-85bf-ed3f5b9b9527 div.sk-parallel::before {content: \"\";position: absolute;border-left: 1px solid gray;box-sizing: border-box;top: 2em;bottom: 0;left: 50%;}#sk-48a2b048-abf1-45a5-85bf-ed3f5b9b9527 div.sk-parallel-item {display: flex;flex-direction: column;position: relative;background-color: white;}#sk-48a2b048-abf1-45a5-85bf-ed3f5b9b9527 div.sk-parallel-item:first-child::after {align-self: flex-end;width: 50%;}#sk-48a2b048-abf1-45a5-85bf-ed3f5b9b9527 div.sk-parallel-item:last-child::after {align-self: flex-start;width: 50%;}#sk-48a2b048-abf1-45a5-85bf-ed3f5b9b9527 div.sk-parallel-item:only-child::after {width: 0;}#sk-48a2b048-abf1-45a5-85bf-ed3f5b9b9527 div.sk-dashed-wrapped {border: 1px dashed gray;margin: 0 0.4em 0.5em 0.4em;box-sizing: border-box;padding-bottom: 0.4em;background-color: white;position: relative;}#sk-48a2b048-abf1-45a5-85bf-ed3f5b9b9527 div.sk-label label {font-family: monospace;font-weight: bold;background-color: white;display: inline-block;line-height: 1.2em;}#sk-48a2b048-abf1-45a5-85bf-ed3f5b9b9527 div.sk-label-container {position: relative;z-index: 2;text-align: center;}#sk-48a2b048-abf1-45a5-85bf-ed3f5b9b9527 div.sk-container {/* jupyter's `normalize.less` sets `[hidden] { display: none; }` but bootstrap.min.css set `[hidden] { display: none !important; }` so we also need the `!important` here to be able to override the default hidden behavior on the sphinx rendered scikit-learn.org. See: https://github.com/scikit-learn/scikit-learn/issues/21755 */display: inline-block !important;position: relative;}#sk-48a2b048-abf1-45a5-85bf-ed3f5b9b9527 div.sk-text-repr-fallback {display: none;}</style><div id=\"sk-48a2b048-abf1-45a5-85bf-ed3f5b9b9527\" class=\"sk-top-container\"><div class=\"sk-text-repr-fallback\"><pre>Pipeline(steps=[(&#x27;transformer&#x27;,\n",
       "                 ColumnTransformer(remainder=&#x27;passthrough&#x27;,\n",
       "                                   transformers=[(&#x27;tnf1&#x27;,\n",
       "                                                  OneHotEncoder(handle_unknown=&#x27;ignore&#x27;,\n",
       "                                                                sparse=False),\n",
       "                                                  [1, 5]),\n",
       "                                                 (&#x27;tnf2&#x27;,\n",
       "                                                  OrdinalEncoder(categories=[[&#x27;no&#x27;,\n",
       "                                                                              &#x27;yes&#x27;]]),\n",
       "                                                  [4]),\n",
       "                                                 (&#x27;tnf3&#x27;, StandardScaler(),\n",
       "                                                  [0, 2, 3])])),\n",
       "                (&#x27;model&#x27;, GradientBoostingRegressor())])</pre><b>Please rerun this cell to show the HTML repr or trust the notebook.</b></div><div class=\"sk-container\" hidden><div class=\"sk-item sk-dashed-wrapped\"><div class=\"sk-label-container\"><div class=\"sk-label sk-toggleable\"><input class=\"sk-toggleable__control sk-hidden--visually\" id=\"6523311e-e8b7-4bc9-b0df-8c74cd8b50a7\" type=\"checkbox\" ><label for=\"6523311e-e8b7-4bc9-b0df-8c74cd8b50a7\" class=\"sk-toggleable__label sk-toggleable__label-arrow\">Pipeline</label><div class=\"sk-toggleable__content\"><pre>Pipeline(steps=[(&#x27;transformer&#x27;,\n",
       "                 ColumnTransformer(remainder=&#x27;passthrough&#x27;,\n",
       "                                   transformers=[(&#x27;tnf1&#x27;,\n",
       "                                                  OneHotEncoder(handle_unknown=&#x27;ignore&#x27;,\n",
       "                                                                sparse=False),\n",
       "                                                  [1, 5]),\n",
       "                                                 (&#x27;tnf2&#x27;,\n",
       "                                                  OrdinalEncoder(categories=[[&#x27;no&#x27;,\n",
       "                                                                              &#x27;yes&#x27;]]),\n",
       "                                                  [4]),\n",
       "                                                 (&#x27;tnf3&#x27;, StandardScaler(),\n",
       "                                                  [0, 2, 3])])),\n",
       "                (&#x27;model&#x27;, GradientBoostingRegressor())])</pre></div></div></div><div class=\"sk-serial\"><div class=\"sk-item sk-dashed-wrapped\"><div class=\"sk-label-container\"><div class=\"sk-label sk-toggleable\"><input class=\"sk-toggleable__control sk-hidden--visually\" id=\"0fc3f721-791c-416f-93b0-b31a942a082b\" type=\"checkbox\" ><label for=\"0fc3f721-791c-416f-93b0-b31a942a082b\" class=\"sk-toggleable__label sk-toggleable__label-arrow\">transformer: ColumnTransformer</label><div class=\"sk-toggleable__content\"><pre>ColumnTransformer(remainder=&#x27;passthrough&#x27;,\n",
       "                  transformers=[(&#x27;tnf1&#x27;,\n",
       "                                 OneHotEncoder(handle_unknown=&#x27;ignore&#x27;,\n",
       "                                               sparse=False),\n",
       "                                 [1, 5]),\n",
       "                                (&#x27;tnf2&#x27;,\n",
       "                                 OrdinalEncoder(categories=[[&#x27;no&#x27;, &#x27;yes&#x27;]]),\n",
       "                                 [4]),\n",
       "                                (&#x27;tnf3&#x27;, StandardScaler(), [0, 2, 3])])</pre></div></div></div><div class=\"sk-parallel\"><div class=\"sk-parallel-item\"><div class=\"sk-item\"><div class=\"sk-label-container\"><div class=\"sk-label sk-toggleable\"><input class=\"sk-toggleable__control sk-hidden--visually\" id=\"24a12f20-eb3b-49bb-b5a5-8d58310689f1\" type=\"checkbox\" ><label for=\"24a12f20-eb3b-49bb-b5a5-8d58310689f1\" class=\"sk-toggleable__label sk-toggleable__label-arrow\">tnf1</label><div class=\"sk-toggleable__content\"><pre>[1, 5]</pre></div></div></div><div class=\"sk-serial\"><div class=\"sk-item\"><div class=\"sk-estimator sk-toggleable\"><input class=\"sk-toggleable__control sk-hidden--visually\" id=\"28a596c1-5cf1-4165-84c6-c6c0ee5590f8\" type=\"checkbox\" ><label for=\"28a596c1-5cf1-4165-84c6-c6c0ee5590f8\" class=\"sk-toggleable__label sk-toggleable__label-arrow\">OneHotEncoder</label><div class=\"sk-toggleable__content\"><pre>OneHotEncoder(handle_unknown=&#x27;ignore&#x27;, sparse=False)</pre></div></div></div></div></div></div><div class=\"sk-parallel-item\"><div class=\"sk-item\"><div class=\"sk-label-container\"><div class=\"sk-label sk-toggleable\"><input class=\"sk-toggleable__control sk-hidden--visually\" id=\"0e538acc-ee0a-41b2-9647-7ce592c5700d\" type=\"checkbox\" ><label for=\"0e538acc-ee0a-41b2-9647-7ce592c5700d\" class=\"sk-toggleable__label sk-toggleable__label-arrow\">tnf2</label><div class=\"sk-toggleable__content\"><pre>[4]</pre></div></div></div><div class=\"sk-serial\"><div class=\"sk-item\"><div class=\"sk-estimator sk-toggleable\"><input class=\"sk-toggleable__control sk-hidden--visually\" id=\"f798acc4-73cc-4521-ae70-b6571c627d9c\" type=\"checkbox\" ><label for=\"f798acc4-73cc-4521-ae70-b6571c627d9c\" class=\"sk-toggleable__label sk-toggleable__label-arrow\">OrdinalEncoder</label><div class=\"sk-toggleable__content\"><pre>OrdinalEncoder(categories=[[&#x27;no&#x27;, &#x27;yes&#x27;]])</pre></div></div></div></div></div></div><div class=\"sk-parallel-item\"><div class=\"sk-item\"><div class=\"sk-label-container\"><div class=\"sk-label sk-toggleable\"><input class=\"sk-toggleable__control sk-hidden--visually\" id=\"54574b81-fedc-421e-aca0-304b40baa122\" type=\"checkbox\" ><label for=\"54574b81-fedc-421e-aca0-304b40baa122\" class=\"sk-toggleable__label sk-toggleable__label-arrow\">tnf3</label><div class=\"sk-toggleable__content\"><pre>[0, 2, 3]</pre></div></div></div><div class=\"sk-serial\"><div class=\"sk-item\"><div class=\"sk-estimator sk-toggleable\"><input class=\"sk-toggleable__control sk-hidden--visually\" id=\"6530e2ae-17f2-498c-abb8-15cf94e8f5e0\" type=\"checkbox\" ><label for=\"6530e2ae-17f2-498c-abb8-15cf94e8f5e0\" class=\"sk-toggleable__label sk-toggleable__label-arrow\">StandardScaler</label><div class=\"sk-toggleable__content\"><pre>StandardScaler()</pre></div></div></div></div></div></div><div class=\"sk-parallel-item\"><div class=\"sk-item\"><div class=\"sk-label-container\"><div class=\"sk-label sk-toggleable\"><input class=\"sk-toggleable__control sk-hidden--visually\" id=\"5de7267c-d04d-4906-8e91-b2ed9f52b716\" type=\"checkbox\" ><label for=\"5de7267c-d04d-4906-8e91-b2ed9f52b716\" class=\"sk-toggleable__label sk-toggleable__label-arrow\">remainder</label><div class=\"sk-toggleable__content\"><pre>[]</pre></div></div></div><div class=\"sk-serial\"><div class=\"sk-item\"><div class=\"sk-estimator sk-toggleable\"><input class=\"sk-toggleable__control sk-hidden--visually\" id=\"6151fdc8-2f98-49e8-bffb-1174d7255fe6\" type=\"checkbox\" ><label for=\"6151fdc8-2f98-49e8-bffb-1174d7255fe6\" class=\"sk-toggleable__label sk-toggleable__label-arrow\">passthrough</label><div class=\"sk-toggleable__content\"><pre>passthrough</pre></div></div></div></div></div></div></div></div><div class=\"sk-item\"><div class=\"sk-estimator sk-toggleable\"><input class=\"sk-toggleable__control sk-hidden--visually\" id=\"62041686-a779-4ca9-9c89-595077acc969\" type=\"checkbox\" ><label for=\"62041686-a779-4ca9-9c89-595077acc969\" class=\"sk-toggleable__label sk-toggleable__label-arrow\">GradientBoostingRegressor</label><div class=\"sk-toggleable__content\"><pre>GradientBoostingRegressor()</pre></div></div></div></div></div></div></div>"
      ],
      "text/plain": [
       "Pipeline(steps=[('transformer',\n",
       "                 ColumnTransformer(remainder='passthrough',\n",
       "                                   transformers=[('tnf1',\n",
       "                                                  OneHotEncoder(handle_unknown='ignore',\n",
       "                                                                sparse=False),\n",
       "                                                  [1, 5]),\n",
       "                                                 ('tnf2',\n",
       "                                                  OrdinalEncoder(categories=[['no',\n",
       "                                                                              'yes']]),\n",
       "                                                  [4]),\n",
       "                                                 ('tnf3', StandardScaler(),\n",
       "                                                  [0, 2, 3])])),\n",
       "                ('model', GradientBoostingRegressor())])"
      ]
     },
     "execution_count": 20,
     "metadata": {},
     "output_type": "execute_result"
    }
   ],
   "source": [
    "gb_model.fit(x_train,y_train)"
   ]
  },
  {
   "cell_type": "code",
   "execution_count": 21,
   "metadata": {},
   "outputs": [],
   "source": [
    "y_pred = gb_model.predict(x_test)"
   ]
  },
  {
   "cell_type": "code",
   "execution_count": 22,
   "metadata": {},
   "outputs": [
    {
     "data": {
      "text/plain": [
       "array([11421.6714098 ,  5808.63037282, 27906.9183161 ,  9681.11044612,\n",
       "       34047.0200666 ,  5183.00393405,  2752.57227725, 18563.83887847,\n",
       "        4827.72273672, 10634.7104045 , 18572.32120822,  7721.11801601,\n",
       "        6003.7782621 , 45198.12616351, 47255.11398648, 44826.30873308,\n",
       "       10177.23243304, 44617.77748845,  9686.23329811, 23765.43013936,\n",
       "        5835.27730277,  8939.15318796,  2031.09584191,  4863.55281579,\n",
       "       11577.69040603, 12938.72533886, 14575.42484381,  6786.2866381 ,\n",
       "       11995.2453876 ,  3479.50992597,  7330.47394123, 12233.22259554,\n",
       "        2859.07322313,  5945.76777319,  4528.81793137, 10500.57250467,\n",
       "        3770.85395551,  9008.29985117, 26216.28064772, 40317.66934875,\n",
       "        4896.22359098,  3882.74017424, 13182.82377272, 14455.7400242 ,\n",
       "        7772.49461673, 15523.45251067,  6381.78017444,  6474.98554754,\n",
       "       42256.00647235,  6733.42150055, 15026.57557543,  2732.91128299,\n",
       "        6603.34192324,  2148.41472248, 12381.32166229, 11566.36512319,\n",
       "        4784.97099747, 40069.9746279 , 12260.03644012, 12907.72519542,\n",
       "       14397.24270086,  5930.7865893 , 16288.40994725,  8153.51555308,\n",
       "       12197.70605594,  5606.14493005, 18720.02623034, 12857.07246808,\n",
       "        5866.21846556,  1607.02557271,  8287.7168127 , 11121.17165776,\n",
       "       10502.98502293,  7520.07466286, 11816.50162435,  5801.4032328 ,\n",
       "        7289.84166523, 12281.27037569,  6984.21254809,  9659.27997885,\n",
       "        2848.01853611, 27332.6092407 ,  6034.89802255, 39944.68258809,\n",
       "       38683.75501708, 42160.24240193,  6261.17256061, 12709.11836803,\n",
       "        9784.51737304, 13283.26051089, 22879.25114283, 28168.49491184,\n",
       "       27739.49977815,  7205.24488916, 41275.90607745,  6649.91054406,\n",
       "       20361.91118939,  3433.97326867, 18386.75603039,  8671.05178099,\n",
       "        5643.44035911,  1949.57961832,  5554.39886997, 12937.13882569,\n",
       "       13391.40990814,  3067.36502854,  9617.8194767 , 21840.20528372,\n",
       "        1676.55068421, 24920.79282183,  1800.67996448,  4483.6564676 ,\n",
       "       13768.70106194, 39831.28835803, 11798.01438734,  3344.23128826,\n",
       "       13483.21286001, 23645.53342416,  7721.04383157,  5609.51287878,\n",
       "        7739.00178313,  8189.59651878, 13925.11547484,  4186.30587168,\n",
       "        6769.90794177,  7984.23379981,  9664.95999588, 11020.36153653,\n",
       "       14406.27372609,  3851.8938069 ,  4157.75531808,  7686.53958063,\n",
       "        8046.37620165, 12184.79964878,  6134.01536939, 15930.71140421,\n",
       "        5649.0268664 , 35643.92309886, 44877.34316427, 39785.51031146,\n",
       "        5973.14353732, 11224.18943601,  4274.27484243, 13056.4926999 ,\n",
       "        3904.2074605 , 24118.39524636,  7451.63885386,  3818.71337024,\n",
       "       11747.06207222,  5977.59204356, 47502.53417037,  4993.36195775,\n",
       "        2816.04670408, 39618.76719369,  6000.06142575,  6043.6547909 ,\n",
       "       14043.8134568 , 10288.48625486, 34544.61378809, 39936.71068094,\n",
       "       14344.19914995,  3786.31930109, 16536.23427351,  5300.64290614,\n",
       "        5668.67337221,  7746.50540036, 47569.54084685, 44019.26592629,\n",
       "       41598.59174728,  3838.70906595,  9782.94506832,  6879.81644251,\n",
       "        6963.12989699,  5162.4965958 ,  2795.53752854, 24229.74101873,\n",
       "       17838.32204224, 13840.17617981, 16051.63500401, 12236.9835787 ,\n",
       "       27579.78830613,  3387.17572713,  9341.18996175,  6230.67519262,\n",
       "        7029.26777824,  4831.79834904,  8986.63822712,  4408.78878096,\n",
       "        9658.98328839, 12294.0317503 ,  5070.0942631 ,  3118.90779442,\n",
       "        4075.12147704, 42417.77475628, 14939.46453284, 10392.93909933,\n",
       "        4082.49762467, 13577.91046266,  3106.21471568, 10618.2322058 ,\n",
       "        4196.43438455, 25244.15273369,  5758.27196511,  7703.5047479 ,\n",
       "       19389.73761186, 18862.7752462 , 10453.97241675,  5211.89748268,\n",
       "        9664.96333691,  4126.2830765 , 12897.95066866, 13151.38304862,\n",
       "       11084.37809951, 19085.44387143,  8135.16180217,  5404.90631806,\n",
       "        6385.06901762, 16479.55530347, 15347.59370369,  6695.74147217,\n",
       "        3337.35923809,  9323.03893112,  6701.11043751, 46715.91824405,\n",
       "        2669.99259274, 37675.04241968,  1607.87128299,  2801.41898408,\n",
       "       10657.74747166, 12344.44401886,  2771.38826089, 10368.88356024,\n",
       "        6586.52620483, 23465.30261763, 12568.97202372, 10371.20266164,\n",
       "        6445.15570573,  5713.62606251, 43316.81443812,  2939.40181529,\n",
       "       14527.8427163 , 39672.36356116,  4632.54369238,  5711.12073559,\n",
       "        1934.27568318,  4028.06700841,  6294.87053265,  4462.24468873,\n",
       "       13963.25640235,  1979.71616415,  3090.06083817,  7706.37402923,\n",
       "        4053.25305379, 11801.47957145,  4114.33463036,  5556.63855523,\n",
       "       13489.23965152,  5723.44290718, 10392.7666496 ,  7923.88178572,\n",
       "        7332.22550506, 13313.47564854, 19965.02965199, 45389.64702452,\n",
       "       12538.66611964,  6948.64326291, 47891.15887517, 10536.12058689])"
      ]
     },
     "execution_count": 22,
     "metadata": {},
     "output_type": "execute_result"
    }
   ],
   "source": [
    "y_pred"
   ]
  },
  {
   "cell_type": "code",
   "execution_count": 23,
   "metadata": {},
   "outputs": [],
   "source": [
    "from sklearn.metrics import accuracy_score,mean_squared_error,r2_score"
   ]
  },
  {
   "cell_type": "code",
   "execution_count": 24,
   "metadata": {},
   "outputs": [
    {
     "name": "stdout",
     "output_type": "stream",
     "text": [
      "The Mean Squared Error using Gradient Boosting Regressor : 18724852.903812498\n",
      "The Root Mean Squared Error using Gradient Boosting Regressor : 4327.222308110885\n",
      "The r2_sccore using Gradient Boosting Regressor : 0.8793880474623511\n"
     ]
    }
   ],
   "source": [
    "gradient_boosting_mse = mean_squared_error(y_test, y_pred)\n",
    "gradient_boosting_rmse = mean_squared_error(y_test, y_pred, squared=False)\n",
    "gradient_boosting_r2_score = r2_score(y_test, y_pred)\n",
    "\n",
    "print(\"The Mean Squared Error using Gradient Boosting Regressor : {}\".format(gradient_boosting_mse))\n",
    "print(\"The Root Mean Squared Error using Gradient Boosting Regressor : {}\".format(gradient_boosting_rmse))\n",
    "print(\"The r2_sccore using Gradient Boosting Regressor : {}\".format(gradient_boosting_r2_score))"
   ]
  },
  {
   "cell_type": "code",
   "execution_count": 26,
   "metadata": {},
   "outputs": [],
   "source": [
    "import pickle\n",
    "pickle.dump(gb_model, open('gb_model.pkl', 'wb'))"
   ]
  },
  {
   "cell_type": "code",
   "execution_count": null,
   "metadata": {},
   "outputs": [],
   "source": []
  }
 ],
 "metadata": {
  "kernelspec": {
   "display_name": "Python 3",
   "language": "python",
   "name": "python3"
  },
  "language_info": {
   "codemirror_mode": {
    "name": "ipython",
    "version": 3
   },
   "file_extension": ".py",
   "mimetype": "text/x-python",
   "name": "python",
   "nbconvert_exporter": "python",
   "pygments_lexer": "ipython3",
   "version": "3.8.5"
  }
 },
 "nbformat": 4,
 "nbformat_minor": 4
}
